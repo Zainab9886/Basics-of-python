{
 "cells": [
  {
   "cell_type": "code",
   "execution_count": null,
   "id": "48a0df6c",
   "metadata": {},
   "outputs": [],
   "source": [
    "Ex:1 "
   ]
  },
  {
   "cell_type": "code",
   "execution_count": 1,
   "id": "3d8a6480",
   "metadata": {},
   "outputs": [],
   "source": [
    "def is_prime(number):\n",
    "    if number <= 1:\n",
    "        return False\n",
    "    for i in range(2, int(number ** 0.5) + 1):\n",
    "        if number % i == 0:\n",
    "            return False\n",
    "    return True"
   ]
  },
  {
   "cell_type": "code",
   "execution_count": 2,
   "id": "a2c14419",
   "metadata": {},
   "outputs": [
    {
     "name": "stdout",
     "output_type": "stream",
     "text": [
      "Enter a number to check if it is prime: 5\n",
      "5 is a prime number.\n"
     ]
    }
   ],
   "source": [
    "# Example usage\n",
    "num = int(input(\"Enter a number to check if it is prime: \"))\n",
    "if is_prime(num):\n",
    "    print(f\"{num} is a prime number.\")\n",
    "else:\n",
    "    print(f\"{num} is not a prime number.\")"
   ]
  },
  {
   "cell_type": "code",
   "execution_count": null,
   "id": "81ec5fd5",
   "metadata": {},
   "outputs": [],
   "source": [
    "Ex2:"
   ]
  },
  {
   "cell_type": "code",
   "execution_count": 3,
   "id": "a10cb2bc",
   "metadata": {},
   "outputs": [],
   "source": [
    "import random\n",
    "\n",
    "def product_of_random_numbers():\n",
    "    num1 = random.randint(1, 100)\n",
    "    num2 = random.randint(1, 100)\n",
    "    correct_product = num1 * num2\n",
    "    \n",
    "    print(f\"What is the product of {num1} and {num2}?\")\n",
    "    user_answer = int(input(\"Enter your answer: \"))\n",
    "    \n",
    "    if user_answer == correct_product:\n",
    "        print(\"Correct!\")\n",
    "    else:\n",
    "        print(f\"Incorrect. The correct answer is {correct_product}.\")"
   ]
  },
  {
   "cell_type": "code",
   "execution_count": 4,
   "id": "3e48c9f8",
   "metadata": {},
   "outputs": [
    {
     "name": "stdout",
     "output_type": "stream",
     "text": [
      "What is the product of 18 and 55?\n",
      "Enter your answer: 45\n",
      "Incorrect. The correct answer is 990.\n"
     ]
    }
   ],
   "source": [
    "# Example usage\n",
    "product_of_random_numbers()"
   ]
  },
  {
   "cell_type": "code",
   "execution_count": null,
   "id": "d9536321",
   "metadata": {},
   "outputs": [],
   "source": [
    "Ex3:"
   ]
  },
  {
   "cell_type": "code",
   "execution_count": 5,
   "id": "c4f04433",
   "metadata": {},
   "outputs": [],
   "source": [
    "def squares_of_even_or_odd(choice):\n",
    "    if choice == 'even':\n",
    "        numbers = range(100, 201, 2)  # Even numbers between 100 and 200\n",
    "    elif choice == 'odd':\n",
    "        numbers = range(101, 200, 2)  # Odd numbers between 100 and 200\n",
    "    else:\n",
    "        print(\"Invalid choice. Please choose 'even' or 'odd'.\")\n",
    "        return\n",
    "    \n",
    "    for number in numbers:\n",
    "        print(f\"The square of {number} is {number ** 2}\")"
   ]
  },
  {
   "cell_type": "code",
   "execution_count": 6,
   "id": "27a32cf8",
   "metadata": {},
   "outputs": [
    {
     "name": "stdout",
     "output_type": "stream",
     "text": [
      "The square of 100 is 10000\n",
      "The square of 102 is 10404\n",
      "The square of 104 is 10816\n",
      "The square of 106 is 11236\n",
      "The square of 108 is 11664\n",
      "The square of 110 is 12100\n",
      "The square of 112 is 12544\n",
      "The square of 114 is 12996\n",
      "The square of 116 is 13456\n",
      "The square of 118 is 13924\n",
      "The square of 120 is 14400\n",
      "The square of 122 is 14884\n",
      "The square of 124 is 15376\n",
      "The square of 126 is 15876\n",
      "The square of 128 is 16384\n",
      "The square of 130 is 16900\n",
      "The square of 132 is 17424\n",
      "The square of 134 is 17956\n",
      "The square of 136 is 18496\n",
      "The square of 138 is 19044\n",
      "The square of 140 is 19600\n",
      "The square of 142 is 20164\n",
      "The square of 144 is 20736\n",
      "The square of 146 is 21316\n",
      "The square of 148 is 21904\n",
      "The square of 150 is 22500\n",
      "The square of 152 is 23104\n",
      "The square of 154 is 23716\n",
      "The square of 156 is 24336\n",
      "The square of 158 is 24964\n",
      "The square of 160 is 25600\n",
      "The square of 162 is 26244\n",
      "The square of 164 is 26896\n",
      "The square of 166 is 27556\n",
      "The square of 168 is 28224\n",
      "The square of 170 is 28900\n",
      "The square of 172 is 29584\n",
      "The square of 174 is 30276\n",
      "The square of 176 is 30976\n",
      "The square of 178 is 31684\n",
      "The square of 180 is 32400\n",
      "The square of 182 is 33124\n",
      "The square of 184 is 33856\n",
      "The square of 186 is 34596\n",
      "The square of 188 is 35344\n",
      "The square of 190 is 36100\n",
      "The square of 192 is 36864\n",
      "The square of 194 is 37636\n",
      "The square of 196 is 38416\n",
      "The square of 198 is 39204\n",
      "The square of 200 is 40000\n"
     ]
    }
   ],
   "source": [
    "# Example usage\n",
    "squares_of_even_or_odd('even')  # Change to 'odd' if you want odd numbers"
   ]
  },
  {
   "cell_type": "code",
   "execution_count": null,
   "id": "741c74ae",
   "metadata": {},
   "outputs": [],
   "source": [
    "Ex4:"
   ]
  },
  {
   "cell_type": "code",
   "execution_count": 7,
   "id": "65967a66",
   "metadata": {},
   "outputs": [],
   "source": [
    "def word_counter(input_text):\n",
    "    words = input_text.split()\n",
    "    word_count = {}\n",
    "    \n",
    "    for word in words:\n",
    "        word_count[word] = word_count.get(word, 0) + 1\n",
    "    \n",
    "    for word, count in word_count.items():\n",
    "        print(f\"'{word}': {count}\")"
   ]
  },
  {
   "cell_type": "code",
   "execution_count": 8,
   "id": "f6ac4b0a",
   "metadata": {},
   "outputs": [
    {
     "name": "stdout",
     "output_type": "stream",
     "text": [
      "'This': 2\n",
      "'is': 1\n",
      "'a': 1\n",
      "'sample': 1\n",
      "'text.': 1\n",
      "'text': 1\n",
      "'will': 1\n",
      "'be': 1\n",
      "'used': 1\n",
      "'to': 1\n",
      "'demonstrate': 1\n",
      "'the': 1\n",
      "'word': 1\n",
      "'counter.': 1\n"
     ]
    }
   ],
   "source": [
    "# Example usage\n",
    "input_text = \"This is a sample text. This text will be used to demonstrate the word counter.\"\n",
    "word_counter(input_text)"
   ]
  },
  {
   "cell_type": "code",
   "execution_count": null,
   "id": "0b82e519",
   "metadata": {},
   "outputs": [],
   "source": [
    "Ex5:"
   ]
  },
  {
   "cell_type": "code",
   "execution_count": 9,
   "id": "579a0132",
   "metadata": {},
   "outputs": [],
   "source": [
    "def is_palindrome(input_string):\n",
    "    # Normalize the string: remove spaces, punctuation, and convert to lower case\n",
    "    normalized_string = ''.join(char.lower() for char in input_string if char.isalnum())\n",
    "    return normalized_string == normalized_string[::-1]"
   ]
  },
  {
   "cell_type": "code",
   "execution_count": 10,
   "id": "e25f30c4",
   "metadata": {},
   "outputs": [
    {
     "name": "stdout",
     "output_type": "stream",
     "text": [
      "'racecar' is a palindrome.\n"
     ]
    }
   ],
   "source": [
    "# Example usage\n",
    "input_string = \"racecar\"\n",
    "if is_palindrome(input_string):\n",
    "    print(f\"'{input_string}' is a palindrome.\")\n",
    "else:\n",
    "    print(f\"'{input_string}' is not a palindrome.\")"
   ]
  },
  {
   "cell_type": "code",
   "execution_count": null,
   "id": "1a037984",
   "metadata": {},
   "outputs": [],
   "source": []
  }
 ],
 "metadata": {
  "kernelspec": {
   "display_name": "Python 3 (ipykernel)",
   "language": "python",
   "name": "python3"
  },
  "language_info": {
   "codemirror_mode": {
    "name": "ipython",
    "version": 3
   },
   "file_extension": ".py",
   "mimetype": "text/x-python",
   "name": "python",
   "nbconvert_exporter": "python",
   "pygments_lexer": "ipython3",
   "version": "3.11.5"
  }
 },
 "nbformat": 4,
 "nbformat_minor": 5
}
